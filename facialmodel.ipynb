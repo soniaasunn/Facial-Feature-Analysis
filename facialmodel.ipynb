{
  "cells": [
    {
      "cell_type": "code",
      "execution_count": null,
      "metadata": {
        "id": "w1heg_OyPp7S"
      },
      "outputs": [],
      "source": [
        "import pandas as pd\n",
        "from sklearn import tree\n",
        "from sklearn import datasets\n",
        "import seaborn as sns\n",
        "import pydotplus\n",
        "from sklearn.model_selection import train_test_split\n",
        "import numpy as np\n",
        "import matplotlib.pyplot as plt\n",
        "from sklearn import metrics\n",
        "from sklearn.metrics import classification_report\n",
        "from sklearn.metrics import confusion_matrix\n",
        "from sklearn.neighbors import KNeighborsClassifier\n",
        "from sklearn.tree import DecisionTreeClassifier\n",
        "from sklearn. ensemble import RandomForestClassifier\n",
        "from sklearn.svm import SVC\n",
        "import pydotplus\n",
        "from sklearn import preprocessing\n",
        "from imblearn.over_sampling import SMOTE\n",
        "from imblearn.over_sampling import BorderlineSMOTE\n",
        "from imblearn.under_sampling import TomekLinks"
      ]
    },
    {
      "cell_type": "code",
      "execution_count": null,
      "metadata": {
        "colab": {
          "base_uri": "https://localhost:8080/"
        },
        "id": "7ol15rTaPzMB",
        "outputId": "80470db1-b2af-4f1d-983f-da5b887ba7ce"
      },
      "outputs": [
        {
          "output_type": "stream",
          "name": "stdout",
          "text": [
            "Mounted at /content/drive\n"
          ]
        }
      ],
      "source": [
        "from google.colab import drive\n",
        "drive.mount('/content/drive')"
      ]
    },
    {
      "cell_type": "code",
      "execution_count": null,
      "metadata": {
        "id": "B79USn6hPzOm"
      },
      "outputs": [],
      "source": [
        "df = pd.read_excel(\"/content/drive/MyDrive/variable.xlsx\")\n",
        "df = df.dropna()\n",
        "df = df.drop(['photo'], axis=1)\n",
        "# df = df[df['result'] != 4]\n",
        "\n",
        "X = df.drop(['result'], axis=1)\n",
        "y = df[\"result\"]\n",
        "\n",
        "model_list = ('knn', 'SVM', 'Decision Tree', 'Random Forest')\n",
        "\n",
        "acc_list = []"
      ]
    },
    {
      "cell_type": "code",
      "source": [
        "df['result'].value_counts()"
      ],
      "metadata": {
        "colab": {
          "base_uri": "https://localhost:8080/"
        },
        "id": "UO5m2WfqNPRb",
        "outputId": "d4bf7907-aa0f-4a74-ef70-91220b4694d1"
      },
      "execution_count": null,
      "outputs": [
        {
          "output_type": "execute_result",
          "data": {
            "text/plain": [
              "3.0    66\n",
              "1.0    54\n",
              "2.0    30\n",
              "4.0     5\n",
              "Name: result, dtype: int64"
            ]
          },
          "metadata": {},
          "execution_count": 4
        }
      ]
    },
    {
      "cell_type": "code",
      "execution_count": null,
      "metadata": {
        "id": "nBCK1Z49pSAY"
      },
      "outputs": [],
      "source": [
        "# 標準化\n",
        "scalex = preprocessing.scale(X)\n",
        "X = pd.DataFrame(scalex, columns = ['fwhr','eye','eyebrow', 'facecurve', 'sym', 'eyebrow_length', 'eyebrow_distance', 'eye_h', 'eye_grad'])"
      ]
    },
    {
      "cell_type": "code",
      "execution_count": null,
      "metadata": {
        "id": "hq4o-uPnk1_e",
        "colab": {
          "base_uri": "https://localhost:8080/"
        },
        "outputId": "08672438-45ea-4f76-deed-94ec022ddf70"
      },
      "outputs": [
        {
          "output_type": "stream",
          "name": "stdout",
          "text": [
            "3.0    20\n",
            "1.0    12\n",
            "2.0    11\n",
            "4.0     3\n",
            "Name: result, dtype: int64\n"
          ]
        }
      ],
      "source": [
        "X_train,X_test,y_train,y_test=train_test_split(X,y,test_size=0.7)\n",
        "\n",
        "X_test = X_test.sample(n = len(X_test) - len(X_train))\n",
        "y_test = y_test.sample(n = len(y_test) - len(y_train))\n",
        "X_test = pd.concat([X_test, X_train])\n",
        "y_test = pd.concat([y_test, y_train])\n",
        "\n",
        "# print(y_test.value_counts())\n",
        "\n",
        "X_train, y_train = SMOTE(random_state=42, k_neighbors=2).fit_resample(X_train, y_train)\n",
        "X_train, y_train = TomekLinks().fit_resample(X_train, y_train)"
      ]
    },
    {
      "cell_type": "code",
      "execution_count": null,
      "metadata": {
        "colab": {
          "base_uri": "https://localhost:8080/",
          "height": 312
        },
        "id": "8_vh-oLLPzTZ",
        "outputId": "cf8cbd9b-8cd5-40f9-eab8-baaa008fdea1"
      },
      "outputs": [
        {
          "output_type": "execute_result",
          "data": {
            "text/plain": [
              "[Text(0, 0.5, 'D'), Text(0, 1.5, 'I'), Text(0, 2.5, 'S'), Text(0, 3.5, 'C')]"
            ]
          },
          "metadata": {},
          "execution_count": 36
        },
        {
          "output_type": "display_data",
          "data": {
            "text/plain": [
              "<Figure size 432x288 with 2 Axes>"
            ],
            "image/png": "[encoded data removed]"
          },
          "metadata": {
            "needs_background": "light"
          }
        }
      ],
      "source": [
        "# Knn\n",
        "\n",
        "knn = KNeighborsClassifier()\n",
        "knn.fit(X_train, y_train)\n",
        "y_pred = knn.predict(X_test)\n",
        "acc_knn = metrics.accuracy_score(y_test, y_pred)\n",
        "acc_list.append(acc_knn)\n",
        "cm_knn = confusion_matrix(y_test, y_pred)\n",
        "\n",
        "cm_plot = sns.heatmap(cm_knn, annot=True, cmap = 'Blues_r')\n",
        "cm_plot.set_xlabel('Predicted Values')\n",
        "cm_plot.set_ylabel('Actual Values ')\n",
        "cm_plot.set_title('KNN')\n",
        "cm_plot.xaxis.set_ticklabels(['D', 'I', 'S', 'C'])\n",
        "cm_plot.yaxis.set_ticklabels(['D', 'I', 'S', 'C'])"
      ]
    },
    {
      "cell_type": "code",
      "execution_count": null,
      "metadata": {
        "colab": {
          "base_uri": "https://localhost:8080/",
          "height": 312
        },
        "id": "HRZ2h0OUPzVi",
        "outputId": "5a47db69-b42c-4f10-be4c-d7f94fef5fdb"
      },
      "outputs": [
        {
          "output_type": "execute_result",
          "data": {
            "text/plain": [
              "[Text(0, 0.5, 'D'), Text(0, 1.5, 'I'), Text(0, 2.5, 'S'), Text(0, 3.5, 'C')]"
            ]
          },
          "metadata": {},
          "execution_count": 37
        },
        {
          "output_type": "display_data",
          "data": {
            "text/plain": [
              "<Figure size 432x288 with 2 Axes>"
            ],
            "image/png": "[encoded data removed]"
          },
          "metadata": {
            "needs_background": "light"
          }
        }
      ],
      "source": [
        "# SVM\n",
        "\n",
        "svc = SVC()\n",
        "svc.fit(X_train, y_train)\n",
        "y_pred = svc.predict(X_test)\n",
        "acc_svm = metrics.accuracy_score(y_test, y_pred)\n",
        "acc_list.append(acc_svm)\n",
        "cm_svm = confusion_matrix(y_test, y_pred)\n",
        "\n",
        "cm_plot = sns.heatmap(cm_svm, annot=True, cmap = 'Blues_r')\n",
        "cm_plot.set_xlabel('Predicted Values')\n",
        "cm_plot.set_ylabel('Actual Values ')\n",
        "cm_plot.set_title('SVM')\n",
        "cm_plot.xaxis.set_ticklabels(['D', 'I', 'S', 'C'])\n",
        "cm_plot.yaxis.set_ticklabels(['D', 'I', 'S', 'C'])"
      ]
    },
    {
      "cell_type": "code",
      "execution_count": null,
      "metadata": {
        "colab": {
          "base_uri": "https://localhost:8080/",
          "height": 312
        },
        "id": "Ehk0x3h4PzXc",
        "outputId": "466b95ed-3e41-4ccb-95b1-389b3576f2a9"
      },
      "outputs": [
        {
          "output_type": "execute_result",
          "data": {
            "text/plain": [
              "[Text(0, 0.5, 'D'), Text(0, 1.5, 'I'), Text(0, 2.5, 'S'), Text(0, 3.5, 'C')]"
            ]
          },
          "metadata": {},
          "execution_count": 38
        },
        {
          "output_type": "display_data",
          "data": {
            "text/plain": [
              "<Figure size 432x288 with 2 Axes>"
            ],
            "image/png": "[encoded data removed]"
          },
          "metadata": {
            "needs_background": "light"
          }
        }
      ],
      "source": [
        "# Decision Tree\n",
        "\n",
        "dtc = tree.DecisionTreeClassifier(criterion = 'entropy').fit(X_train, y_train)\n",
        "y_pred = dtc.predict(X_test)\n",
        "acc_dtc = metrics.accuracy_score(y_test, y_pred)\n",
        "acc_list.append(acc_dtc)\n",
        "cm_dtc = confusion_matrix(y_test, y_pred)\n",
        "\n",
        "cm_plot = sns.heatmap(cm_dtc, annot=True, cmap = 'Blues_r')\n",
        "cm_plot.set_xlabel('Predicted Values')\n",
        "cm_plot.set_ylabel('Actual Values ')\n",
        "cm_plot.set_title('Decision Tree')\n",
        "cm_plot.xaxis.set_ticklabels(['D', 'I', 'S', 'C'])\n",
        "cm_plot.yaxis.set_ticklabels(['D', 'I', 'S', 'C'])"
      ]
    },
    {
      "cell_type": "code",
      "execution_count": null,
      "metadata": {
        "colab": {
          "base_uri": "https://localhost:8080/",
          "height": 312
        },
        "id": "ojFgpoejQQqX",
        "outputId": "d6c56edb-ce95-4486-eda3-bdb775456094"
      },
      "outputs": [
        {
          "output_type": "execute_result",
          "data": {
            "text/plain": [
              "[Text(0, 0.5, 'D'), Text(0, 1.5, 'I'), Text(0, 2.5, 'S'), Text(0, 3.5, 'C')]"
            ]
          },
          "metadata": {},
          "execution_count": 39
        },
        {
          "output_type": "display_data",
          "data": {
            "text/plain": [
              "<Figure size 432x288 with 2 Axes>"
            ],
            "image/png": "[encoded data removed]"
          },
          "metadata": {
            "needs_background": "light"
          }
        }
      ],
      "source": [
        "# Randon Forest\n",
        "\n",
        "rfc = RandomForestClassifier(criterion = 'entropy')\n",
        "rfc.fit(X_train, y_train)\n",
        "y_pred = rfc.predict(X_test)\n",
        "acc_rfc = metrics.accuracy_score(y_test, y_pred)\n",
        "acc_list.append(acc_rfc)\n",
        "cm_rfc = confusion_matrix(y_test, y_pred)\n",
        "\n",
        "cm_plot = sns.heatmap(cm_rfc, annot=True, cmap = 'Blues_r')\n",
        "cm_plot.set_xlabel('Predicted Values')\n",
        "cm_plot.set_ylabel('Actual Values ')\n",
        "cm_plot.set_title('Random Forest')\n",
        "cm_plot.xaxis.set_ticklabels(['D', 'I', 'S', 'C'])\n",
        "cm_plot.yaxis.set_ticklabels(['D', 'I', 'S', 'C'])"
      ]
    },
    {
      "cell_type": "code",
      "execution_count": null,
      "metadata": {
        "colab": {
          "base_uri": "https://localhost:8080/",
          "height": 175
        },
        "id": "Z-UpWUHeQQvf",
        "outputId": "1a4b77ac-4a73-49f8-b3c4-2d20ebfcf98c"
      },
      "outputs": [
        {
          "output_type": "execute_result",
          "data": {
            "text/plain": [
              "           Model  Accuracy\n",
              "0            knn  0.422018\n",
              "1            SVM  0.559633\n",
              "2  Decision Tree  0.596330\n",
              "3  Random Forest  0.669725"
            ],
            "text/html": [
              "\n",
              "  <div id=\"df-ea9e4426-f1be-4839-a23f-e400405a3dca\">\n",
              "    <div class=\"colab-df-container\">\n",
              "      <div>\n",
              "<style scoped>\n",
              "    .dataframe tbody tr th:only-of-type {\n",
              "        vertical-align: middle;\n",
              "    }\n",
              "\n",
              "    .dataframe tbody tr th {\n",
              "        vertical-align: top;\n",
              "    }\n",
              "\n",
              "    .dataframe thead th {\n",
              "        text-align: right;\n",
              "    }\n",
              "</style>\n",
              "<table border=\"1\" class=\"dataframe\">\n",
              "  <thead>\n",
              "    <tr style=\"text-align: right;\">\n",
              "      <th></th>\n",
              "      <th>Model</th>\n",
              "      <th>Accuracy</th>\n",
              "    </tr>\n",
              "  </thead>\n",
              "  <tbody>\n",
              "    <tr>\n",
              "      <th>0</th>\n",
              "      <td>knn</td>\n",
              "      <td>0.422018</td>\n",
              "    </tr>\n",
              "    <tr>\n",
              "      <th>1</th>\n",
              "      <td>SVM</td>\n",
              "      <td>0.559633</td>\n",
              "    </tr>\n",
              "    <tr>\n",
              "      <th>2</th>\n",
              "      <td>Decision Tree</td>\n",
              "      <td>0.596330</td>\n",
              "    </tr>\n",
              "    <tr>\n",
              "      <th>3</th>\n",
              "      <td>Random Forest</td>\n",
              "      <td>0.669725</td>\n",
              "    </tr>\n",
              "  </tbody>\n",
              "</table>\n",
              "</div>\n",
              "      <button class=\"colab-df-convert\" onclick=\"convertToInteractive('df-ea9e4426-f1be-4839-a23f-e400405a3dca')\"\n",
              "              title=\"Convert this dataframe to an interactive table.\"\n",
              "              style=\"display:none;\">\n",
              "        \n",
              "  <svg xmlns=\"http://www.w3.org/2000/svg\" height=\"24px\"viewBox=\"0 0 24 24\"\n",
              "       width=\"24px\">\n",
              "    <path d=\"M0 0h24v24H0V0z\" fill=\"none\"/>\n",
              "    <path d=\"M18.56 5.44l.94 2.06.94-2.06 2.06-.94-2.06-.94-.94-2.06-.94 2.06-2.06.94zm-11 1L8.5 8.5l.94-2.06 2.06-.94-2.06-.94L8.5 2.5l-.94 2.06-2.06.94zm10 10l.94 2.06.94-2.06 2.06-.94-2.06-.94-.94-2.06-.94 2.06-2.06.94z\"/><path d=\"M17.41 7.96l-1.37-1.37c-.4-.4-.92-.59-1.43-.59-.52 0-1.04.2-1.43.59L10.3 9.45l-7.72 7.72c-.78.78-.78 2.05 0 2.83L4 21.41c.39.39.9.59 1.41.59.51 0 1.02-.2 1.41-.59l7.78-7.78 2.81-2.81c.8-.78.8-2.07 0-2.86zM5.41 20L4 18.59l7.72-7.72 1.47 1.35L5.41 20z\"/>\n",
              "  </svg>\n",
              "      </button>\n",
              "      \n",
              "  <style>\n",
              "    .colab-df-container {\n",
              "      display:flex;\n",
              "      flex-wrap:wrap;\n",
              "      gap: 12px;\n",
              "    }\n",
              "\n",
              "    .colab-df-convert {\n",
              "      background-color: #E8F0FE;\n",
              "      border: none;\n",
              "      border-radius: 50%;\n",
              "      cursor: pointer;\n",
              "      display: none;\n",
              "      fill: #1967D2;\n",
              "      height: 32px;\n",
              "      padding: 0 0 0 0;\n",
              "      width: 32px;\n",
              "    }\n",
              "\n",
              "    .colab-df-convert:hover {\n",
              "      background-color: #E2EBFA;\n",
              "      box-shadow: 0px 1px 2px rgba(60, 64, 67, 0.3), 0px 1px 3px 1px rgba(60, 64, 67, 0.15);\n",
              "      fill: #174EA6;\n",
              "    }\n",
              "\n",
              "    [theme=dark] .colab-df-convert {\n",
              "      background-color: #3B4455;\n",
              "      fill: #D2E3FC;\n",
              "    }\n",
              "\n",
              "    [theme=dark] .colab-df-convert:hover {\n",
              "      background-color: #434B5C;\n",
              "      box-shadow: 0px 1px 3px 1px rgba(0, 0, 0, 0.15);\n",
              "      filter: drop-shadow(0px 1px 2px rgba(0, 0, 0, 0.3));\n",
              "      fill: #FFFFFF;\n",
              "    }\n",
              "  </style>\n",
              "\n",
              "      <script>\n",
              "        const buttonEl =\n",
              "          document.querySelector('#df-ea9e4426-f1be-4839-a23f-e400405a3dca button.colab-df-convert');\n",
              "        buttonEl.style.display =\n",
              "          google.colab.kernel.accessAllowed ? 'block' : 'none';\n",
              "\n",
              "        async function convertToInteractive(key) {\n",
              "          const element = document.querySelector('#df-ea9e4426-f1be-4839-a23f-e400405a3dca');\n",
              "          const dataTable =\n",
              "            await google.colab.kernel.invokeFunction('convertToInteractive',\n",
              "                                                     [key], {});\n",
              "          if (!dataTable) return;\n",
              "\n",
              "          const docLinkHtml = 'Like what you see? Visit the ' +\n",
              "            '<a target=\"_blank\" href=https://colab.research.google.com/notebooks/data_table.ipynb>data table notebook</a>'\n",
              "            + ' to learn more about interactive tables.';\n",
              "          element.innerHTML = '';\n",
              "          dataTable['output_type'] = 'display_data';\n",
              "          await google.colab.output.renderOutput(dataTable, element);\n",
              "          const docLink = document.createElement('div');\n",
              "          docLink.innerHTML = docLinkHtml;\n",
              "          element.appendChild(docLink);\n",
              "        }\n",
              "      </script>\n",
              "    </div>\n",
              "  </div>\n",
              "  "
            ]
          },
          "metadata": {},
          "execution_count": 40
        }
      ],
      "source": [
        "# Model, Accuracy \n",
        "result_df = pd.DataFrame({'Model' :model_list, 'Accuracy' : acc_list})\n",
        "result_df"
      ]
    }
  ],
  "metadata": {
    "colab": {
      "collapsed_sections": [],
      "name": "facialmodel.ipynb",
      "provenance": []
    },
    "kernelspec": {
      "display_name": "Python 3",
      "language": "python",
      "name": "python3"
    },
    "language_info": {
      "codemirror_mode": {
        "name": "ipython",
        "version": 3
      },
      "file_extension": ".py",
      "mimetype": "text/x-python",
      "name": "python",
      "nbconvert_exporter": "python",
      "pygments_lexer": "ipython3",
      "version": "3.8.8"
    }
  },
  "nbformat": 4,
  "nbformat_minor": 0
}